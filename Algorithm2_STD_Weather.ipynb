{
 "cells": [
  {
   "cell_type": "code",
   "execution_count": 1,
   "id": "b0ff8c4e",
   "metadata": {},
   "outputs": [],
   "source": [
    "import pandas as pd\n",
    "import numpy as np\n",
    "import matplotlib.pyplot as plt\n",
    "from sklearn.cluster import KMeans\n",
    "from sklearn.preprocessing import StandardScaler\n",
    "from sklearn.metrics import accuracy_score\n",
    "from sklearn.metrics import silhouette_score"
   ]
  },
  {
   "cell_type": "code",
   "execution_count": 2,
   "id": "800c7d69",
   "metadata": {},
   "outputs": [
    {
     "data": {
      "text/html": [
       "<div>\n",
       "<style scoped>\n",
       "    .dataframe tbody tr th:only-of-type {\n",
       "        vertical-align: middle;\n",
       "    }\n",
       "\n",
       "    .dataframe tbody tr th {\n",
       "        vertical-align: top;\n",
       "    }\n",
       "\n",
       "    .dataframe thead th {\n",
       "        text-align: right;\n",
       "    }\n",
       "</style>\n",
       "<table border=\"1\" class=\"dataframe\">\n",
       "  <thead>\n",
       "    <tr style=\"text-align: right;\">\n",
       "      <th></th>\n",
       "      <th>date</th>\n",
       "      <th>precipitation</th>\n",
       "      <th>temp_max</th>\n",
       "      <th>temp_min</th>\n",
       "      <th>wind</th>\n",
       "      <th>weather</th>\n",
       "    </tr>\n",
       "  </thead>\n",
       "  <tbody>\n",
       "    <tr>\n",
       "      <th>0</th>\n",
       "      <td>2012-01-01</td>\n",
       "      <td>0.0</td>\n",
       "      <td>12.8</td>\n",
       "      <td>5.0</td>\n",
       "      <td>4.7</td>\n",
       "      <td>drizzle</td>\n",
       "    </tr>\n",
       "    <tr>\n",
       "      <th>1</th>\n",
       "      <td>2012-01-02</td>\n",
       "      <td>10.9</td>\n",
       "      <td>10.6</td>\n",
       "      <td>2.8</td>\n",
       "      <td>4.5</td>\n",
       "      <td>rain</td>\n",
       "    </tr>\n",
       "    <tr>\n",
       "      <th>2</th>\n",
       "      <td>2012-01-03</td>\n",
       "      <td>0.8</td>\n",
       "      <td>11.7</td>\n",
       "      <td>7.2</td>\n",
       "      <td>2.3</td>\n",
       "      <td>rain</td>\n",
       "    </tr>\n",
       "    <tr>\n",
       "      <th>3</th>\n",
       "      <td>2012-01-04</td>\n",
       "      <td>20.3</td>\n",
       "      <td>12.2</td>\n",
       "      <td>5.6</td>\n",
       "      <td>4.7</td>\n",
       "      <td>rain</td>\n",
       "    </tr>\n",
       "    <tr>\n",
       "      <th>4</th>\n",
       "      <td>2012-01-05</td>\n",
       "      <td>1.3</td>\n",
       "      <td>8.9</td>\n",
       "      <td>2.8</td>\n",
       "      <td>6.1</td>\n",
       "      <td>rain</td>\n",
       "    </tr>\n",
       "    <tr>\n",
       "      <th>...</th>\n",
       "      <td>...</td>\n",
       "      <td>...</td>\n",
       "      <td>...</td>\n",
       "      <td>...</td>\n",
       "      <td>...</td>\n",
       "      <td>...</td>\n",
       "    </tr>\n",
       "    <tr>\n",
       "      <th>1456</th>\n",
       "      <td>2015-12-27</td>\n",
       "      <td>8.6</td>\n",
       "      <td>4.4</td>\n",
       "      <td>1.7</td>\n",
       "      <td>2.9</td>\n",
       "      <td>rain</td>\n",
       "    </tr>\n",
       "    <tr>\n",
       "      <th>1457</th>\n",
       "      <td>2015-12-28</td>\n",
       "      <td>1.5</td>\n",
       "      <td>5.0</td>\n",
       "      <td>1.7</td>\n",
       "      <td>1.3</td>\n",
       "      <td>rain</td>\n",
       "    </tr>\n",
       "    <tr>\n",
       "      <th>1458</th>\n",
       "      <td>2015-12-29</td>\n",
       "      <td>0.0</td>\n",
       "      <td>7.2</td>\n",
       "      <td>0.6</td>\n",
       "      <td>2.6</td>\n",
       "      <td>fog</td>\n",
       "    </tr>\n",
       "    <tr>\n",
       "      <th>1459</th>\n",
       "      <td>2015-12-30</td>\n",
       "      <td>0.0</td>\n",
       "      <td>5.6</td>\n",
       "      <td>-1.0</td>\n",
       "      <td>3.4</td>\n",
       "      <td>sun</td>\n",
       "    </tr>\n",
       "    <tr>\n",
       "      <th>1460</th>\n",
       "      <td>2015-12-31</td>\n",
       "      <td>0.0</td>\n",
       "      <td>5.6</td>\n",
       "      <td>-2.1</td>\n",
       "      <td>3.5</td>\n",
       "      <td>sun</td>\n",
       "    </tr>\n",
       "  </tbody>\n",
       "</table>\n",
       "<p>1461 rows × 6 columns</p>\n",
       "</div>"
      ],
      "text/plain": [
       "            date  precipitation  temp_max  temp_min  wind  weather\n",
       "0     2012-01-01            0.0      12.8       5.0   4.7  drizzle\n",
       "1     2012-01-02           10.9      10.6       2.8   4.5     rain\n",
       "2     2012-01-03            0.8      11.7       7.2   2.3     rain\n",
       "3     2012-01-04           20.3      12.2       5.6   4.7     rain\n",
       "4     2012-01-05            1.3       8.9       2.8   6.1     rain\n",
       "...          ...            ...       ...       ...   ...      ...\n",
       "1456  2015-12-27            8.6       4.4       1.7   2.9     rain\n",
       "1457  2015-12-28            1.5       5.0       1.7   1.3     rain\n",
       "1458  2015-12-29            0.0       7.2       0.6   2.6      fog\n",
       "1459  2015-12-30            0.0       5.6      -1.0   3.4      sun\n",
       "1460  2015-12-31            0.0       5.6      -2.1   3.5      sun\n",
       "\n",
       "[1461 rows x 6 columns]"
      ]
     },
     "execution_count": 2,
     "metadata": {},
     "output_type": "execute_result"
    }
   ],
   "source": [
    "# load the dataset\n",
    "data = pd.read_csv(\"D:\\\\Data\\weather.csv\")\n",
    "data = data.fillna(data.mean())\n",
    "data"
   ]
  },
  {
   "cell_type": "code",
   "execution_count": 3,
   "id": "f8e85a76",
   "metadata": {},
   "outputs": [],
   "source": [
    "import numpy as np\n",
    "import pandas as pd\n",
    "import matplotlib.pyplot as plt"
   ]
  },
  {
   "cell_type": "code",
   "execution_count": 4,
   "id": "0e861a34",
   "metadata": {},
   "outputs": [],
   "source": [
    "means = data.mean()\n",
    "stds = data.std()"
   ]
  },
  {
   "cell_type": "code",
   "execution_count": 5,
   "id": "1b93be2c",
   "metadata": {},
   "outputs": [
    {
     "data": {
      "text/plain": [
       "precipitation    6.680194\n",
       "temp_max         7.349758\n",
       "temp_min         5.023004\n",
       "wind             1.437825\n",
       "dtype: float64"
      ]
     },
     "execution_count": 5,
     "metadata": {},
     "output_type": "execute_result"
    }
   ],
   "source": [
    "stds"
   ]
  },
  {
   "cell_type": "code",
   "execution_count": 6,
   "id": "7d67e277",
   "metadata": {},
   "outputs": [
    {
     "name": "stdout",
     "output_type": "stream",
     "text": [
      "Standardized Values:\n",
      "0      -0.495299\n",
      "1      -0.794731\n",
      "2      -0.645015\n",
      "3      -0.576962\n",
      "4      -1.026111\n",
      "          ...   \n",
      "1456   -1.638585\n",
      "1457   -1.556922\n",
      "1458   -1.257490\n",
      "1459   -1.475259\n",
      "1460   -1.475259\n",
      "Name: temp_max, Length: 1461, dtype: float64\n"
     ]
    }
   ],
   "source": [
    " import numpy as np\n",
    "import pandas as pd\n",
    "\n",
    "\n",
    "\n",
    "# Calculate the mean and standard deviation of the \"Glucose\" column\n",
    "mean_pl = np.mean(data[\"temp_max\"])\n",
    "std_deviation_pl = np.std(data[\"temp_max\"])\n",
    "\n",
    "# Calculate the standard deviation of each value in the \"Pregnancies\" column\n",
    "standardized_values_pl = (data[\"temp_max\"] - mean_pl) / std_deviation_pl\n",
    "\n",
    "# Print the standardized values\n",
    "print(\"Standardized Values:\")\n",
    "print(standardized_values_pl)\n"
   ]
  },
  {
   "cell_type": "code",
   "execution_count": 7,
   "id": "3afe4090",
   "metadata": {},
   "outputs": [
    {
     "data": {
      "image/png": "[encoded data removed]",
      "text/plain": [
       "<Figure size 432x288 with 1 Axes>"
      ]
     },
     "metadata": {
      "needs_background": "light"
     },
     "output_type": "display_data"
    }
   ],
   "source": [
    "\n",
    "median_pl = np.median(data[\"temp_max\"])\n",
    "\n",
    "# Find the standardized value of the median\n",
    "standardized_median_pl = (median_pl - mean_pl) / std_deviation_pl\n",
    "import numpy as np\n",
    "import pandas as pd\n",
    "import matplotlib.pyplot as plt# Create a histogram for the standardized values\n",
    "\n",
    "plt.hist(standardized_values_pl, bins=20, alpha=0.6, color='lightblue', label='Standardized Values', edgecolor='black')\n",
    "\n",
    "# Add a vertical line to represent the standardized median in red\n",
    "plt.axvline(standardized_median_pl, color='blue', linestyle='dashed', linewidth=2, label='Standardized Median')\n",
    "\n",
    "# Set labels and title\n",
    "plt.xlabel('Standardized Values')\n",
    "plt.ylabel('Frequency')\n",
    "plt.title('Histogram of Standardized Values with Standardized Median for Seattle Dataset')\n",
    "\n",
    "# Add a legend\n",
    "plt.legend()\n",
    "plt.text(plt.xlim()[0] + 1.05, plt.ylim()[1] * 0.9, f'Median: {(standardized_median_pl):.2f}', color='blue', ha='left', va='top', fontsize=12)\n",
    "\n",
    "plt.grid(True, linestyle='--', alpha=0.7)\n",
    "plt.show()\n",
    "\n"
   ]
  },
  {
   "cell_type": "code",
   "execution_count": null,
   "id": "db068e82",
   "metadata": {},
   "outputs": [],
   "source": []
  },
  {
   "cell_type": "code",
   "execution_count": 8,
   "id": "9b1c0b64",
   "metadata": {},
   "outputs": [
    {
     "name": "stdout",
     "output_type": "stream",
     "text": [
      "Left Selected Values:\n",
      "0       12.8\n",
      "1       10.6\n",
      "2       11.7\n",
      "3       12.2\n",
      "4        8.9\n",
      "        ... \n",
      "1456     4.4\n",
      "1457     5.0\n",
      "1458     7.2\n",
      "1459     5.6\n",
      "1460     5.6\n",
      "Name: temp_max, Length: 758, dtype: float64\n",
      "Right Selected Values:\n",
      "36      16.1\n",
      "92      16.7\n",
      "97      16.1\n",
      "98      21.1\n",
      "99      20.0\n",
      "        ... \n",
      "1389    16.1\n",
      "1390    16.1\n",
      "1393    19.4\n",
      "1395    16.1\n",
      "1398    17.2\n",
      "Name: temp_max, Length: 703, dtype: float64\n",
      "703\n"
     ]
    }
   ],
   "source": [
    "# Calculate the median\n",
    "median_pl = np.median(data[\"temp_max\"])\n",
    "\n",
    "# Find the standardized value of the median\n",
    "standardized_median_pl = (median_pl - mean_pl) / std_deviation_pl\n",
    "\n",
    "# Select the values that are less than or equal to the standardized median\n",
    "left_mask = standardized_values_pl <= standardized_median_pl\n",
    "left_selected_values = data[\"temp_max\"][left_mask]\n",
    "\n",
    "# Select the values that are greater than the standardized median\n",
    "right_mask = standardized_values_pl > standardized_median_pl\n",
    "right_selected_values = data[\"temp_max\"][right_mask]\n",
    "\n",
    "# Print the selected values\n",
    "print(\"Left Selected Values:\")\n",
    "print(left_selected_values)\n",
    "print(\"Right Selected Values:\")\n",
    "print(right_selected_values)\n",
    "print(len(right_selected_values))"
   ]
  },
  {
   "cell_type": "code",
   "execution_count": 9,
   "id": "ff1b19af",
   "metadata": {},
   "outputs": [
    {
     "name": "stdout",
     "output_type": "stream",
     "text": [
      "Left 75%:\n",
      "687    15.6\n",
      "107    15.6\n",
      "465    15.6\n",
      "142    15.6\n",
      "467    15.6\n",
      "       ... \n",
      "537     7.2\n",
      "207     6.7\n",
      "205     6.7\n",
      "180     6.7\n",
      "187     6.7\n",
      "Name: temp_max, Length: 644, dtype: float64\n",
      "Right 75%:\n",
      "0      16.1\n",
      "513    16.1\n",
      "510    16.1\n",
      "35     16.1\n",
      "36     16.1\n",
      "       ... \n",
      "423    29.4\n",
      "269    30.0\n",
      "422    30.0\n",
      "574    30.0\n",
      "638    30.0\n",
      "Name: temp_max, Length: 644, dtype: float64\n",
      "644\n",
      "644\n",
      "Selected Left Rows:\n",
      "           date  precipitation  temp_max  temp_min  wind  weather\n",
      "687  2013-11-18           26.2      12.8       9.4   3.9     rain\n",
      "107  2012-04-17            1.8      10.0       4.4   2.0     rain\n",
      "465  2013-04-10            9.4      15.0       8.9   6.4     rain\n",
      "142  2012-05-22            6.1      12.8       8.9   4.8     rain\n",
      "467  2013-04-12            9.7       7.8       4.4   4.6     rain\n",
      "..          ...            ...       ...       ...   ...      ...\n",
      "537  2013-06-21            0.3      20.6      12.2   1.5     rain\n",
      "207  2012-07-26            0.0      25.6      12.8   2.2  drizzle\n",
      "205  2012-07-24            0.0      23.3      12.2   4.3      sun\n",
      "180  2012-06-29            0.3      21.7      15.0   1.9     rain\n",
      "187  2012-07-06            0.0      25.0      11.1   2.1      sun\n",
      "\n",
      "[644 rows x 6 columns]\n",
      "Selected Right Rows:\n",
      "           date  precipitation  temp_max  temp_min  wind  weather\n",
      "0    2012-01-01            0.0      12.8       5.0   4.7  drizzle\n",
      "513  2013-05-28            0.5      17.2      11.7   2.8     rain\n",
      "510  2013-05-25            0.0      17.8      10.0   2.7      sun\n",
      "35   2012-02-05            0.0      13.9       1.7   2.9      sun\n",
      "36   2012-02-06            0.0      16.1       1.7   5.0      sun\n",
      "..          ...            ...       ...       ...   ...      ...\n",
      "423  2013-02-27            4.6      10.0       4.4   1.8     rain\n",
      "269  2012-09-26            0.0      19.4       9.4   1.7  drizzle\n",
      "422  2013-02-26            0.5       8.9       3.9   3.8     rain\n",
      "574  2013-07-28            0.0      21.1      12.2   3.4      fog\n",
      "638  2013-09-30           18.5      13.9      10.0   6.3     rain\n",
      "\n",
      "[644 rows x 6 columns]\n"
     ]
    }
   ],
   "source": [
    "\n",
    "# Calculate the absolute difference between each value and the median\n",
    "left_diff = np.abs(left_selected_values - median_pl)\n",
    "right_diff = np.abs(right_selected_values - median_pl)\n",
    "\n",
    "# Sort the values based on the absolute difference\n",
    "left_sorted = left_selected_values.reset_index(drop=True)[np.argsort(left_diff)]\n",
    "right_sorted = right_selected_values.reset_index(drop=True)[np.argsort(right_diff)]\n",
    "\n",
    "\n",
    "# Calculate the number of values to select from each side\n",
    "num_values = len(left_selected_values)\n",
    "\n",
    "# Take the closest 75% of the left and right side values\n",
    "left_75_percent = left_sorted[:int(0.85 * num_values)]\n",
    "right_75_percent = right_sorted[:int(0.85 * num_values)]\n",
    "\n",
    "# Print the 75% of the left and right side values that are closest to the median\n",
    "print(\"Left 75%:\")\n",
    "print(left_75_percent)\n",
    "print(\"Right 75%:\")\n",
    "print(right_75_percent)\n",
    "print(len(right_75_percent))\n",
    "print(len(left_75_percent))\n",
    "\n",
    "selected_left_rows = data.loc[left_75_percent.index]\n",
    "selected_right_rows = data.loc[right_75_percent.index]\n",
    "\n",
    "# Print the selected rows\n",
    "print(\"Selected Left Rows:\")\n",
    "print(selected_left_rows)\n",
    "print(\"Selected Right Rows:\")\n",
    "print(selected_right_rows)"
   ]
  },
  {
   "cell_type": "code",
   "execution_count": 10,
   "id": "e36f9743",
   "metadata": {},
   "outputs": [
    {
     "name": "stdout",
     "output_type": "stream",
     "text": [
      "Combined Dataset:\n",
      "           date  precipitation  temp_max  temp_min  wind  weather\n",
      "687  2013-11-18           26.2      12.8       9.4   3.9     rain\n",
      "107  2012-04-17            1.8      10.0       4.4   2.0     rain\n",
      "465  2013-04-10            9.4      15.0       8.9   6.4     rain\n",
      "142  2012-05-22            6.1      12.8       8.9   4.8     rain\n",
      "467  2013-04-12            9.7       7.8       4.4   4.6     rain\n",
      "..          ...            ...       ...       ...   ...      ...\n",
      "423  2013-02-27            4.6      10.0       4.4   1.8     rain\n",
      "269  2012-09-26            0.0      19.4       9.4   1.7  drizzle\n",
      "422  2013-02-26            0.5       8.9       3.9   3.8     rain\n",
      "574  2013-07-28            0.0      21.1      12.2   3.4      fog\n",
      "638  2013-09-30           18.5      13.9      10.0   6.3     rain\n",
      "\n",
      "[1288 rows x 6 columns]\n"
     ]
    }
   ],
   "source": [
    "combined_dataset = pd.concat([selected_left_rows, selected_right_rows], axis=0)\n",
    "\n",
    "# Print the combined dataset\n",
    "print(\"Combined Dataset:\")\n",
    "print(combined_dataset)"
   ]
  },
  {
   "cell_type": "code",
   "execution_count": 11,
   "id": "9b11f38f",
   "metadata": {},
   "outputs": [
    {
     "name": "stdout",
     "output_type": "stream",
     "text": [
      "Combined Dataset without 'variety' column:\n",
      "     precipitation  temp_max  temp_min  wind  weather\n",
      "687           26.2      12.8       9.4   3.9     rain\n",
      "107            1.8      10.0       4.4   2.0     rain\n",
      "465            9.4      15.0       8.9   6.4     rain\n",
      "142            6.1      12.8       8.9   4.8     rain\n",
      "467            9.7       7.8       4.4   4.6     rain\n",
      "..             ...       ...       ...   ...      ...\n",
      "423            4.6      10.0       4.4   1.8     rain\n",
      "269            0.0      19.4       9.4   1.7  drizzle\n",
      "422            0.5       8.9       3.9   3.8     rain\n",
      "574            0.0      21.1      12.2   3.4      fog\n",
      "638           18.5      13.9      10.0   6.3     rain\n",
      "\n",
      "[1288 rows x 5 columns]\n",
      "1288\n"
     ]
    }
   ],
   "source": [
    "combined_dataset_without_variety = combined_dataset.drop(columns=[\"weather\"])\n",
    "combined_dataset_without_variety = combined_dataset.drop(columns=[\"date\"])\n",
    "# Print the modified dataset\n",
    "print(\"Combined Dataset without 'variety' column:\")\n",
    "print(combined_dataset_without_variety)\n",
    "print(len(combined_dataset_without_variety))"
   ]
  },
  {
   "cell_type": "code",
   "execution_count": 12,
   "id": "722b0d81",
   "metadata": {},
   "outputs": [],
   "source": [
    "combined_dataset_without_variety=combined_dataset_without_variety.drop(columns=[\"weather\"])\n"
   ]
  },
  {
   "cell_type": "code",
   "execution_count": 13,
   "id": "b9524385",
   "metadata": {},
   "outputs": [
    {
     "name": "stdout",
     "output_type": "stream",
     "text": [
      "Silhouette Score for 3 clusters: 0.48\n",
      "Cluster Labels: [1 0 0 ... 0 2 1]\n"
     ]
    }
   ],
   "source": [
    "import numpy as np\n",
    "from sklearn.cluster import KMeans\n",
    "from sklearn.metrics import silhouette_score\n",
    "\n",
    "# Assuming combined_dataset_without_variety is your dataset without the \"variety\" column\n",
    "\n",
    "# Number of clusters (you can adjust this)\n",
    "k = 3\n",
    "\n",
    "# Initialize K-means with k clusters\n",
    "kmeans = KMeans(n_clusters=k, random_state=0)\n",
    "\n",
    "# Fit K-means to the data\n",
    "kmeans.fit(combined_dataset_without_variety)\n",
    "\n",
    "# Predict cluster labels for each data point\n",
    "clusters = kmeans.predict(combined_dataset_without_variety)\n",
    "\n",
    "# Calculate the silhouette score for the clustering\n",
    "silhouette_avg = silhouette_score(combined_dataset_without_variety, clusters)\n",
    "\n",
    "# Print the silhouette score and cluster labels\n",
    "print(\"Silhouette Score for {} clusters: {:.2f}\".format(k, silhouette_avg))\n",
    "print(\"Cluster Labels:\", clusters)\n"
   ]
  },
  {
   "cell_type": "code",
   "execution_count": 14,
   "id": "b6ca1bae",
   "metadata": {},
   "outputs": [],
   "source": [
    "import numpy as np\n",
    "from sklearn.cluster import KMeans\n",
    "from sklearn.metrics import silhouette_score\n",
    "import matplotlib.pyplot as plt"
   ]
  },
  {
   "cell_type": "code",
   "execution_count": null,
   "id": "7ec37c69",
   "metadata": {},
   "outputs": [],
   "source": []
  },
  {
   "cell_type": "code",
   "execution_count": 15,
   "id": "a46d72dd",
   "metadata": {},
   "outputs": [
    {
     "data": {
      "image/png": "[encoded data removed]",
      "text/plain": [
       "<Figure size 432x288 with 1 Axes>"
      ]
     },
     "metadata": {
      "needs_background": "light"
     },
     "output_type": "display_data"
    }
   ],
   "source": [
    "# Access columns by their names\n",
    "feature1 = combined_dataset_without_variety['temp_max']\n",
    "feature2 = combined_dataset_without_variety['precipitation']\n",
    "\n",
    "# Create a scatter plot\n",
    "plt.scatter(feature1, feature2, c=clusters, cmap='viridis')\n",
    "plt.title('Proposed Algorithm on Seattle Weather Dataset')\n",
    "plt.xlabel('temp_max')\n",
    "plt.ylabel('precipitation')\n",
    "plt.show()\n",
    "\n",
    "# Create a scatter plot"
   ]
  },
  {
   "cell_type": "code",
   "execution_count": null,
   "id": "3a18735c",
   "metadata": {},
   "outputs": [],
   "source": [
    "#K MEANS"
   ]
  },
  {
   "cell_type": "code",
   "execution_count": 16,
   "id": "2c151cb9",
   "metadata": {},
   "outputs": [],
   "source": [
    "import pandas as pd\n",
    "import numpy as np\n",
    "import matplotlib.pyplot as plt\n",
    "from sklearn.cluster import KMeans\n",
    "from sklearn.preprocessing import StandardScaler\n",
    "from sklearn.metrics import accuracy_score\n",
    "from sklearn.metrics import silhouette_score"
   ]
  },
  {
   "cell_type": "code",
   "execution_count": 17,
   "id": "ae749288",
   "metadata": {},
   "outputs": [
    {
     "name": "stdout",
     "output_type": "stream",
     "text": [
      "Number of outliers deleted for k=2: 219\n",
      "Number of outliers deleted for k=3: 219\n",
      "Number of outliers deleted for k=4: 219\n",
      "Number of outliers deleted for k=5: 219\n",
      "Number of outliers deleted for k=6: 219\n",
      "Number of outliers deleted for k=7: 219\n",
      "Number of outliers deleted for k=8: 219\n",
      "Number of outliers deleted for k=9: 219\n",
      "Number of outliers deleted for k=10: 219\n",
      "Silhouette score for k=2: 0.3524712777923641\n",
      "Silhouette score for k=3: 0.37869310072479023\n",
      "Silhouette score for k=4: 0.38884797781770586\n",
      "Silhouette score for k=5: 0.30126421419680843\n",
      "Silhouette score for k=6: 0.3010407897670115\n",
      "Silhouette score for k=7: 0.28693246749394974\n",
      "Silhouette score for k=8: 0.256301051022397\n",
      "Silhouette score for k=9: 0.2600588072918063\n",
      "Silhouette score for k=10: 0.2545650590829386\n"
     ]
    }
   ],
   "source": [
    "import numpy as np\n",
    "import pandas as pd\n",
    "from sklearn.cluster import KMeans\n",
    "from sklearn.metrics import silhouette_score\n",
    "from sklearn.preprocessing import StandardScaler\n",
    "import matplotlib.pyplot as plt\n",
    "\n",
    "# Load the diabetes dataset\n",
    "data = pd.read_csv(\"D:\\\\Data\\\\weather.csv\")\n",
    "data = data.fillna(data.mean())\n",
    "# Drop the \"Outcome\" column\n",
    "data = data.drop(columns=[\"date\",\"weather\"])\n",
    "\n",
    "# Standardize the data\n",
    "scaler = StandardScaler()\n",
    "scaled_data = scaler.fit_transform(data)\n",
    "\n",
    "# Define a range of k values for K-Means\n",
    "k_values = range(2, 11)\n",
    "\n",
    "# Initialize variables to store outlier counts and silhouette scores\n",
    "outlier_counts = []\n",
    "silhouette_scores = []\n",
    "\n",
    "# Perform K-Means clustering for each k value\n",
    "for k in k_values:\n",
    "    kmeans = KMeans(n_clusters=k, random_state=42)\n",
    "    cluster_labels = kmeans.fit_predict(scaled_data)\n",
    "    \n",
    "    # Detect and count outliers using the Mahalanobis distance method\n",
    "    cluster_centers = kmeans.cluster_centers_\n",
    "    mahalanobis_distances = np.sqrt(np.sum(((scaled_data - cluster_centers[cluster_labels]) ** 2), axis=1))\n",
    "    threshold = np.percentile(mahalanobis_distances, 85)  # Define a threshold for outliers (e.g., 95th percentile)\n",
    "    outliers = np.where(mahalanobis_distances > threshold)[0]\n",
    "    outlier_counts.append(len(outliers))\n",
    "    \n",
    "    # Calculate silhouette score\n",
    "    silhouette_avg = silhouette_score(scaled_data, cluster_labels)\n",
    "    silhouette_scores.append(silhouette_avg)\n",
    "\n",
    "# Print the number of outliers deleted for each k\n",
    "for k, outliers_deleted in zip(k_values, outlier_counts):\n",
    "    print(f'Number of outliers deleted for k={k}: {outliers_deleted}')\n",
    "\n",
    "# Print the silhouette scores for each k\n",
    "for k, silhouette_avg in zip(k_values, silhouette_scores):\n",
    "    print(f'Silhouette score for k={k}: {silhouette_avg}')\n"
   ]
  },
  {
   "cell_type": "code",
   "execution_count": null,
   "id": "5a79901f",
   "metadata": {},
   "outputs": [],
   "source": []
  }
 ],
 "metadata": {
  "kernelspec": {
   "display_name": "Python 3",
   "language": "python",
   "name": "python3"
  },
  "language_info": {
   "codemirror_mode": {
    "name": "ipython",
    "version": 3
   },
   "file_extension": ".py",
   "mimetype": "text/x-python",
   "name": "python",
   "nbconvert_exporter": "python",
   "pygments_lexer": "ipython3",
   "version": "3.8.8"
  }
 },
 "nbformat": 4,
 "nbformat_minor": 5
}
